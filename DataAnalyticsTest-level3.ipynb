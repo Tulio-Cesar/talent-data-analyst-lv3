{
  "cells": [
    {
      "cell_type": "markdown",
      "id": "9eec3119",
      "metadata": {
        "id": "9eec3119"
      },
      "source": [
        "# ST IT Cloud - Data and Analytics Test LV.3\n",
        "\n",
        "Esse teste deve avaliar a qualidade técnica na manipulacão de dados.\n",
        "\n",
        "## Passo a passo\n",
        "\n",
        "- Disponibilizamos aqui 1 case para ser solucionado, leia os enunciados dos problemas, desenvolva os programas, utilizando a **stack definida durante o processo seletivo**, para entregar os dados de acordo com os requisitos descritos abaixo.\n",
        "\n",
        "\n",
        "**Faz parte dos critérios de avaliacão a pontualidade da entrega. Implemente até onde for possível dentro do prazo acordado.**\n",
        "\n",
        "**Os dados de pessoas foram gerados de forma aleatória, utilizando a biblioteca FakerJS, FakerJS-BR e Faker**\n",
        "\n",
        "LEMBRE-SE: A entrega deve conter TODOS os passos para o avaliador executar o programa (keep it simple).\n"
      ]
    },
    {
      "cell_type": "markdown",
      "id": "1eb61f06",
      "metadata": {
        "id": "1eb61f06"
      },
      "source": [
        "# TESTE PRÁTICO"
      ]
    },
    {
      "cell_type": "markdown",
      "id": "8ed8c6a5",
      "metadata": {
        "id": "8ed8c6a5"
      },
      "source": [
        "**Problema**: Você está recebendo o arquivo 'dados_cadastrais_fake.csv' que contem dados cadastrais de clientes, mas para que análises ou relatórios sejam feitos é necessário limpar e normalizar os dados. Além disso, existe uma coluna com o número de cpf e outra com cnpj, você precisará padronizar deixando apenas dígitos em formato string (sem caracteres especiais), implementar uma forma de verificar se tais documentos são válidos sendo que a informação deve se adicionada ao dataframe em outras duas novas colunas.\n",
        "\n",
        "Após a normalização, gere reports que respondam as seguintes perguntas:\n",
        "- Quantos clientes temos nessa base?\n",
        "- Qual a média de idade dos clientes?\n",
        "- Quantos clientes nessa base pertencem a cada estado?\n",
        "- Quantos CPFs válidos e inválidos foram encontrados?\n",
        "- Quantos CNPJs válidos e inválidos foram encontrados?\n",
        "\n",
        "Ao final gere um arquivo no formato csv e um outro arquivo no formato parquet chamado (problema1_normalizado), eles serão destinados para pessoas distintas."
      ]
    },
    {
      "cell_type": "code",
      "execution_count": 60,
      "id": "e28802e2",
      "metadata": {
        "colab": {
          "base_uri": "https://localhost:8080/"
        },
        "id": "e28802e2",
        "outputId": "9ec63adf-3264-4531-c34c-3cd0df11effe"
      },
      "outputs": [
        {
          "output_type": "stream",
          "name": "stdout",
          "text": [
            "Looking in indexes: https://pypi.org/simple, https://us-python.pkg.dev/colab-wheels/public/simple/\n",
            "Requirement already satisfied: pyspark in /usr/local/lib/python3.10/dist-packages (3.4.0)\n",
            "Requirement already satisfied: py4j==0.10.9.7 in /usr/local/lib/python3.10/dist-packages (from pyspark) (0.10.9.7)\n",
            "Traceback (most recent call last):\n",
            "  File \"/usr/local/lib/python3.10/dist-packages/pip/_vendor/pkg_resources/__init__.py\", line 3021, in _dep_map\n",
            "    return self.__dep_map\n",
            "  File \"/usr/local/lib/python3.10/dist-packages/pip/_vendor/pkg_resources/__init__.py\", line 2815, in __getattr__\n",
            "    raise AttributeError(attr)\n",
            "AttributeError: _DistInfoDistribution__dep_map\n",
            "\n",
            "During handling of the above exception, another exception occurred:\n",
            "\n",
            "Traceback (most recent call last):\n",
            "  File \"/usr/local/lib/python3.10/dist-packages/pip/_internal/cli/base_command.py\", line 160, in exc_logging_wrapper\n",
            "    status = run_func(*args)\n",
            "  File \"/usr/local/lib/python3.10/dist-packages/pip/_internal/cli/req_command.py\", line 241, in wrapper\n",
            "    return func(self, options, args)\n",
            "  File \"/usr/local/lib/python3.10/dist-packages/pip/_internal/commands/install.py\", line 499, in run\n",
            "    conflicts = self._determine_conflicts(to_install)\n",
            "  File \"/usr/local/lib/python3.10/dist-packages/pip/_internal/commands/install.py\", line 631, in _determine_conflicts\n",
            "    return check_install_conflicts(to_install)\n",
            "  File \"/usr/local/lib/python3.10/dist-packages/pip/_internal/operations/check.py\", line 101, in check_install_conflicts\n",
            "    package_set, _ = create_package_set_from_installed()\n",
            "  File \"/usr/local/lib/python3.10/dist-packages/pip/_internal/operations/check.py\", line 42, in create_package_set_from_installed\n",
            "    dependencies = list(dist.iter_dependencies())\n",
            "  File \"/usr/local/lib/python3.10/dist-packages/pip/_internal/metadata/pkg_resources.py\", line 216, in iter_dependencies\n",
            "    return self._dist.requires(extras)\n",
            "  File \"/usr/local/lib/python3.10/dist-packages/pip/_vendor/pkg_resources/__init__.py\", line 2736, in requires\n",
            "    dm = self._dep_map\n",
            "  File \"/usr/local/lib/python3.10/dist-packages/pip/_vendor/pkg_resources/__init__.py\", line 3023, in _dep_map\n",
            "    self.__dep_map = self._compute_dependencies()\n",
            "  File \"/usr/local/lib/python3.10/dist-packages/pip/_vendor/pkg_resources/__init__.py\", line 3033, in _compute_dependencies\n",
            "    reqs.extend(parse_requirements(req))\n",
            "  File \"/usr/local/lib/python3.10/dist-packages/pip/_vendor/pkg_resources/__init__.py\", line 3094, in parse_requirements\n",
            "    yield Requirement(line)\n",
            "  File \"/usr/local/lib/python3.10/dist-packages/pip/_vendor/pkg_resources/__init__.py\", line 3101, in __init__\n",
            "    super(Requirement, self).__init__(requirement_string)\n",
            "  File \"/usr/local/lib/python3.10/dist-packages/pip/_vendor/packaging/requirements.py\", line 102, in __init__\n",
            "    req = REQUIREMENT.parseString(requirement_string)\n",
            "  File \"/usr/local/lib/python3.10/dist-packages/pip/_vendor/pyparsing/core.py\", line 1131, in parse_string\n",
            "    loc, tokens = self._parse(instring, 0)\n",
            "  File \"/usr/local/lib/python3.10/dist-packages/pip/_vendor/pyparsing/core.py\", line 817, in _parseNoCache\n",
            "    loc, tokens = self.parseImpl(instring, pre_loc, doActions)\n",
            "  File \"/usr/local/lib/python3.10/dist-packages/pip/_vendor/pyparsing/core.py\", line 3886, in parseImpl\n",
            "    loc, exprtokens = e._parse(instring, loc, doActions)\n",
            "  File \"/usr/local/lib/python3.10/dist-packages/pip/_vendor/pyparsing/core.py\", line 817, in _parseNoCache\n",
            "    loc, tokens = self.parseImpl(instring, pre_loc, doActions)\n",
            "  File \"/usr/local/lib/python3.10/dist-packages/pip/_vendor/pyparsing/core.py\", line 4114, in parseImpl\n",
            "    return e._parse(\n",
            "  File \"/usr/local/lib/python3.10/dist-packages/pip/_vendor/pyparsing/core.py\", line 817, in _parseNoCache\n",
            "    loc, tokens = self.parseImpl(instring, pre_loc, doActions)\n",
            "  File \"/usr/local/lib/python3.10/dist-packages/pip/_vendor/pyparsing/core.py\", line 3864, in parseImpl\n",
            "    loc, resultlist = self.exprs[0]._parse(\n",
            "  File \"/usr/local/lib/python3.10/dist-packages/pip/_vendor/pyparsing/core.py\", line 817, in _parseNoCache\n",
            "    loc, tokens = self.parseImpl(instring, pre_loc, doActions)\n",
            "  File \"/usr/local/lib/python3.10/dist-packages/pip/_vendor/pyparsing/core.py\", line 3886, in parseImpl\n",
            "    loc, exprtokens = e._parse(instring, loc, doActions)\n",
            "  File \"/usr/local/lib/python3.10/dist-packages/pip/_vendor/pyparsing/core.py\", line 817, in _parseNoCache\n",
            "    loc, tokens = self.parseImpl(instring, pre_loc, doActions)\n",
            "  File \"/usr/local/lib/python3.10/dist-packages/pip/_vendor/pyparsing/core.py\", line 4959, in parseImpl\n",
            "    loc, tokens = self_expr._parse(instring, loc, doActions, callPreParse=False)\n",
            "  File \"/usr/local/lib/python3.10/dist-packages/pip/_vendor/pyparsing/core.py\", line 817, in _parseNoCache\n",
            "    loc, tokens = self.parseImpl(instring, pre_loc, doActions)\n",
            "  File \"/usr/local/lib/python3.10/dist-packages/pip/_vendor/pyparsing/core.py\", line 4114, in parseImpl\n",
            "    return e._parse(\n",
            "  File \"/usr/local/lib/python3.10/dist-packages/pip/_vendor/pyparsing/core.py\", line 817, in _parseNoCache\n",
            "    loc, tokens = self.parseImpl(instring, pre_loc, doActions)\n",
            "  File \"/usr/local/lib/python3.10/dist-packages/pip/_vendor/pyparsing/core.py\", line 3886, in parseImpl\n",
            "    loc, exprtokens = e._parse(instring, loc, doActions)\n",
            "  File \"/usr/local/lib/python3.10/dist-packages/pip/_vendor/pyparsing/core.py\", line 817, in _parseNoCache\n",
            "    loc, tokens = self.parseImpl(instring, pre_loc, doActions)\n",
            "  File \"/usr/local/lib/python3.10/dist-packages/pip/_vendor/pyparsing/core.py\", line 4375, in parseImpl\n",
            "    return self.expr._parse(instring, loc, doActions, callPreParse=False)\n",
            "  File \"/usr/local/lib/python3.10/dist-packages/pip/_vendor/pyparsing/core.py\", line 817, in _parseNoCache\n",
            "    loc, tokens = self.parseImpl(instring, pre_loc, doActions)\n",
            "  File \"/usr/local/lib/python3.10/dist-packages/pip/_vendor/pyparsing/core.py\", line 3886, in parseImpl\n",
            "    loc, exprtokens = e._parse(instring, loc, doActions)\n",
            "  File \"/usr/local/lib/python3.10/dist-packages/pip/_vendor/pyparsing/core.py\", line 817, in _parseNoCache\n",
            "    loc, tokens = self.parseImpl(instring, pre_loc, doActions)\n",
            "  File \"/usr/local/lib/python3.10/dist-packages/pip/_vendor/pyparsing/core.py\", line 4891, in parseImpl\n",
            "    return super().parseImpl(instring, loc, doActions)\n",
            "  File \"/usr/local/lib/python3.10/dist-packages/pip/_vendor/pyparsing/core.py\", line 4800, in parseImpl\n",
            "    loc, tmptokens = self_expr_parse(instring, preloc, doActions)\n",
            "  File \"/usr/local/lib/python3.10/dist-packages/pip/_vendor/pyparsing/core.py\", line 817, in _parseNoCache\n",
            "    loc, tokens = self.parseImpl(instring, pre_loc, doActions)\n",
            "  File \"/usr/local/lib/python3.10/dist-packages/pip/_vendor/pyparsing/core.py\", line 3888, in parseImpl\n",
            "    resultlist += exprtokens\n",
            "  File \"/usr/local/lib/python3.10/dist-packages/pip/_vendor/pyparsing/results.py\", line 435, in __iadd__\n",
            "    otheritems = other._tokdict.items()\n",
            "KeyboardInterrupt\n",
            "\n",
            "During handling of the above exception, another exception occurred:\n",
            "\n",
            "Traceback (most recent call last):\n",
            "  File \"/usr/local/bin/pip3\", line 8, in <module>\n",
            "    sys.exit(main())\n",
            "  File \"/usr/local/lib/python3.10/dist-packages/pip/_internal/cli/main.py\", line 70, in main\n",
            "    return command.main(cmd_args)\n",
            "  File \"/usr/local/lib/python3.10/dist-packages/pip/_internal/cli/base_command.py\", line 101, in main\n",
            "    return self._main(args)\n",
            "  File \"/usr/local/lib/python3.10/dist-packages/pip/_internal/cli/base_command.py\", line 214, in _main\n",
            "    return run(options, args)\n",
            "  File \"/usr/local/lib/python3.10/dist-packages/pip/_internal/cli/base_command.py\", line 197, in exc_logging_wrapper\n",
            "    logger.critical(\"Operation cancelled by user\")\n",
            "  File \"/usr/lib/python3.10/logging/__init__.py\", line 1524, in critical\n",
            "    self._log(CRITICAL, msg, args, **kwargs)\n",
            "  File \"/usr/lib/python3.10/logging/__init__.py\", line 1624, in _log\n",
            "    self.handle(record)\n",
            "  File \"/usr/lib/python3.10/logging/__init__.py\", line 1634, in handle\n",
            "    self.callHandlers(record)\n",
            "  File \"/usr/lib/python3.10/logging/__init__.py\", line 1696, in callHandlers\n",
            "    hdlr.handle(record)\n",
            "  File \"/usr/lib/python3.10/logging/__init__.py\", line 968, in handle\n",
            "    self.emit(record)\n",
            "  File \"/usr/local/lib/python3.10/dist-packages/pip/_internal/utils/logging.py\", line 177, in emit\n",
            "    self.console.print(renderable, overflow=\"ignore\", crop=False, style=style)\n",
            "  File \"/usr/local/lib/python3.10/dist-packages/pip/_vendor/rich/console.py\", line 1679, in print\n",
            "    render_options = self.options.update(\n",
            "  File \"/usr/local/lib/python3.10/dist-packages/pip/_vendor/rich/console.py\", line 981, in options\n",
            "    max_width=self.width,\n",
            "  File \"/usr/local/lib/python3.10/dist-packages/pip/_vendor/rich/console.py\", line 1043, in width\n",
            "    @property\n",
            "KeyboardInterrupt\n",
            "^C\n",
            "openjdk-8-jdk-headless is already the newest version (8u362-ga-0ubuntu1~20.04.1).\n",
            "0 upgraded, 0 newly installed, 0 to remove and 24 not upgraded.\n"
          ]
        }
      ],
      "source": [
        "#Como utilizei o Google Colab para realizar esse desafio, tive que instalar algumas dependências:\n",
        "!pip install pyspark\n",
        "!pip install -U -q PyDrive\n",
        "!apt install openjdk-8-jdk-headless -qq\n",
        "import os\n",
        "os.environ[\"JAVA_HOME\"] = \"/usr/lib/jvm/java-8-openjdk-amd64\""
      ]
    },
    {
      "cell_type": "code",
      "source": [
        "from pyspark.sql import SparkSession\n",
        "from pyspark.sql.types import BooleanType, StringType\n",
        "from pyspark.sql.functions import initcap, regexp_replace, ltrim, rtrim, col, udf"
      ],
      "metadata": {
        "id": "HFQzE-c7pB1B"
      },
      "id": "HFQzE-c7pB1B",
      "execution_count": 132,
      "outputs": []
    },
    {
      "cell_type": "code",
      "source": [
        "spark = SparkSession.builder.appName(\"problema1\").getOrCreate()\n",
        "df = spark.read.option(\"header\", True).option(\"delimiter\", \";\").option(\"inferSchema\", True).csv(\"dados_cadastrais_fake.csv\")\n",
        "df.show()"
      ],
      "metadata": {
        "colab": {
          "base_uri": "https://localhost:8080/"
        },
        "id": "Et4PFHjqpHmN",
        "outputId": "57be2c27-90e5-4165-dfc6-15d50451d3b9"
      },
      "id": "Et4PFHjqpHmN",
      "execution_count": 169,
      "outputs": [
        {
          "output_type": "stream",
          "name": "stdout",
          "text": [
            "+------------------+-----+-------------------+----------------+--------------+------------------+\n",
            "|             nomes|idade|             cidade|          estado|           cpf|              cnpj|\n",
            "+------------------+-----+-------------------+----------------+--------------+------------------+\n",
            "|    Dennis Daniels|   31|         ACRELÂNDIA|              AC|   97566536800|    06589184909526|\n",
            "|       Leah Becker|   42|        ÁGUA BRANCA|              AL|425.263.807-07|25.673.336/2350-20|\n",
            "|        Sally Ford|   18|           ALVARÃES|              AM|   34647754103|    26543101702989|\n",
            "|    Colleen Duncan|   21|     SERRA DO NAVIO|              AP|252.531.560-03|19.062.080/5100-98|\n",
            "|   Jeff Stephenson|   73|             ABAÍRA|              BA|   49668886542|    97794530015384|\n",
            "|     Sydney Curtis|   85|            ABAIARA|              CE|506.202.907-49|29.476.298/0856-78|\n",
            "|    Kelly Matthews|   44|           Brasília|distrito federal|   39154836808|    24709301957761|\n",
            "|         Juan Ruiz|   39|     AFONSO CLÁUDIO|              ES|226.881.196-48|02.420.338/1479-00|\n",
            "|      Brian Thomas|   26|    ABADIA DE GOIÁS|              GO|   47475484084|    70723419110335|\n",
            "|        Sara Ayers|   62|         AÇAILÂNDIA|              MA|948.309.788-64|88.253.689/5483-82|\n",
            "|        Brady Cruz|   83|ABADIA DOS DOURADOS|              MG|   03438452456|    13118105069639|\n",
            "|   Samantha Wright|   32|         ÁGUA CLARA|              MS|222.036.540-90|04.310.317/3202-52|\n",
            "|    Richard Turner|   85|           ACORIZAL|              MT|   79059712285|    75595541223248|\n",
            "|    Ashley Sanders|   73|         ABAETETUBA|              PA|752.065.139-89|06.923.815/1651-28|\n",
            "|      Thomas Jones|   45|        ÁGUA BRANCA|              PB|   34565179806|    26574533273304|\n",
            "|        Ian Murray|   68|       ABREU E LIMA|              PE|152.777.170-99|85.202.887/3688-51|\n",
            "|     Janice Jensen|   79|              ACAUÃ|              PI|   45081993646|    89596067898809|\n",
            "|Jeffrey Cunningham|   48|             ABATIÁ|              PR|665.490.288-25|18.866.688/3442-42|\n",
            "|      Amanda Glass|   49|     ANGRA DOS REIS|              RJ|   86173803577|    87380936406714|\n",
            "|   Kaitlyn Johnson|   65|              ACARI|              RN|897.370.042-13|40.893.546/7414-94|\n",
            "+------------------+-----+-------------------+----------------+--------------+------------------+\n",
            "only showing top 20 rows\n",
            "\n"
          ]
        }
      ]
    },
    {
      "cell_type": "code",
      "source": [
        "#iniciando a identificação de possiveis sujeiras nos dados.\n",
        "#identificando sujeira nos nomes\n",
        "df.filter(\n",
        "    ~col(\"nomes\").rlike(\"^([A-Z]([-']?[a-z]+))([ ]([A-Z]([-']?[a-z]+)[.]?)?([A-Z]+)?)*$\")\n",
        ").show(10, False)"
      ],
      "metadata": {
        "colab": {
          "base_uri": "https://localhost:8080/"
        },
        "id": "8hhsnScXrn_u",
        "outputId": "953b68a3-4bf0-46df-e8ed-bcbac3112620"
      },
      "id": "8hhsnScXrn_u",
      "execution_count": 170,
      "outputs": [
        {
          "output_type": "stream",
          "name": "stdout",
          "text": [
            "+----------------------+-----+-------------------+------+--------------+------------------+\n",
            "|nomes                 |idade|cidade             |estado|cpf           |cnpj              |\n",
            "+----------------------+-----+-------------------+------+--------------+------------------+\n",
            "|Mr. Andrew Chapman MD |55   |ABDON BATISTA      |SC    |645.976.852-86|26.848.890/5356-10|\n",
            "|Mrs. Yesenia Barrett  |88   |ÁGUA BRANCA        |AL    |746.102.105-25|50.800.865/6979-77|\n",
            "|Dr. Jennifer Williams |36   |SERRA DO NAVIO     |AP    |443.310.261-08|48.607.469/0454-82|\n",
            "|Mr. Jesse Fletcher    |21   |ABADIA DOS DOURADOS|MG    |812.821.490-08|48.249.914/7290-01|\n",
            "|Mr. Derrick Walker III|67   |SERRA DO NAVIO     |AP    |867.098.157-22|72.983.983/2334-06|\n",
            "|Mr. Charles Schwartz  |47   |ÁGUA BRANCA        |PB    |01473369290   |78060778010570    |\n",
            "|Mrs. Suzanne Peters   |19   |ACRELÂNDIA         |AC    |81433726181   |29592536264459    |\n",
            "|Mrs. Angela Hernandez |34   |AFONSO CLÁUDIO     |ES    |967.654.794-81|78.156.668/0031-35|\n",
            "|Mrs. Tammy Travis DVM |43   |ACEGUÁ             |RS    |77616620965   |91272021853866    |\n",
            "|Dr. Dawn Garcia       |66   |ABAETETUBA         |PA    |05734959472   |28275990028361    |\n",
            "+----------------------+-----+-------------------+------+--------------+------------------+\n",
            "only showing top 10 rows\n",
            "\n"
          ]
        }
      ]
    },
    {
      "cell_type": "code",
      "source": [
        "#identificando a sujeito na idade\n",
        "df.filter(\n",
        "    (col(\"idade\").cast(\"int\").isNull()) | (col(\"idade\").cast(\"int\") <= 0) | (col(\"idade\").cast(\"int\") > 100)\n",
        ").show(10, False)"
      ],
      "metadata": {
        "colab": {
          "base_uri": "https://localhost:8080/"
        },
        "id": "aesYh6dtuuZD",
        "outputId": "6bd25362-fc5a-4d9b-c3cb-61d106eab3e7"
      },
      "id": "aesYh6dtuuZD",
      "execution_count": 174,
      "outputs": [
        {
          "output_type": "stream",
          "name": "stdout",
          "text": [
            "+-----+-----+------+------+---+----+\n",
            "|nomes|idade|cidade|estado|cpf|cnpj|\n",
            "+-----+-----+------+------+---+----+\n",
            "+-----+-----+------+------+---+----+\n",
            "\n"
          ]
        }
      ]
    },
    {
      "cell_type": "code",
      "source": [
        "#identificando a sujeira na cidade\n",
        "df.filter(\n",
        "    ~col(\"cidade\").rlike(\"^[\\\\p{L}]+([ ]([A-Z]['])?[\\\\p{L}]+)*$\")\n",
        ").show(10, False)"
      ],
      "metadata": {
        "colab": {
          "base_uri": "https://localhost:8080/"
        },
        "id": "1abcIxU5vE0v",
        "outputId": "e847f589-902a-4b8b-c0e8-af4b7b867cfd"
      },
      "id": "1abcIxU5vE0v",
      "execution_count": 175,
      "outputs": [
        {
          "output_type": "stream",
          "name": "stdout",
          "text": [
            "+-----+-----+------+------+---+----+\n",
            "|nomes|idade|cidade|estado|cpf|cnpj|\n",
            "+-----+-----+------+------+---+----+\n",
            "+-----+-----+------+------+---+----+\n",
            "\n"
          ]
        }
      ]
    },
    {
      "cell_type": "code",
      "source": [
        "#identificando a sujeira no estado\n",
        "states_list = [\"AC\", \"AL\", \"AP\", \"AM\", \"BA\", \"CE\", \"DF\", \"ES\", \"GO\", \"MA\", \"MT\", \"MS\", \"MG\", \"PA\", \"PB\", \"PR\", \"PE\", \"PI\", \"RJ\", \"RN\", \"RS\", \"RO\", \"RR\", \"SC\", \"SP\", \"SE\", \"TO\"]\n",
        "df.filter(\n",
        "    ~col(\"estado\").isin(states_list)\n",
        ").show(10, False)"
      ],
      "metadata": {
        "colab": {
          "base_uri": "https://localhost:8080/"
        },
        "id": "chu8CJXmvR8f",
        "outputId": "0133cb34-4e1b-43bb-f147-b64ebbe455e3"
      },
      "id": "chu8CJXmvR8f",
      "execution_count": 176,
      "outputs": [
        {
          "output_type": "stream",
          "name": "stdout",
          "text": [
            "+-----------------+-----+----------+----------------+--------------+------------------+\n",
            "|nomes            |idade|cidade    |estado          |cpf           |cnpj              |\n",
            "+-----------------+-----+----------+----------------+--------------+------------------+\n",
            "|Kelly Matthews   |44   |Brasília  |distrito federal|39154836808   |24709301957761    |\n",
            "|Michelle Sullivan|45   |Brasília  |distrito federal|603.384.507-26|18.355.115/6493-65|\n",
            "|Cindy Brown      |28   |Brasília  |distrito federal|11561438537   |89158131394480    |\n",
            "|Patricia Meyer MD|31   |Brasília  |distrito federal|432.435.813-38|68.879.919/2769-85|\n",
            "|Christopher Young|38   |Brasília  |distrito federal|24594975984   |71848458367870    |\n",
            "|Elizabeth Miller |79   |Brasília  |distrito federal|723.509.900-36|41.178.451/8696-87|\n",
            "|Barbara Leon MD  |73   |ADAMANTINA|sao  paulo      |05086323231   |98992168836002    |\n",
            "|Stephen Torres   |48   |ADAMANTINA|sao  paulo      |922.545.994-70|51.006.075/0099-24|\n",
            "|Kelli Poole      |22   |ADAMANTINA|sao  paulo      |34228364209   |97538603622850    |\n",
            "|Michael Castillo |89   |ADAMANTINA|são  paulo      |111.618.361-79|76.065.114/0666-03|\n",
            "+-----------------+-----+----------+----------------+--------------+------------------+\n",
            "only showing top 10 rows\n",
            "\n"
          ]
        }
      ]
    },
    {
      "cell_type": "code",
      "source": [
        "#identificando a sujeira no cpf\n",
        "\n",
        "df = df.withColumn(\"cpf\", regexp_replace(col(\"cpf\"), \"[^0-9]\", \"\"))\n",
        "\n",
        "df.filter(\n",
        "    ~col(\"cpf\").rlike(\"^[\\\\d]{11}$\")\n",
        ").show(10, False)"
      ],
      "metadata": {
        "colab": {
          "base_uri": "https://localhost:8080/"
        },
        "id": "Qemx__sJveMd",
        "outputId": "415b8199-0d2e-46c7-e8bd-cc3ce5e3da23"
      },
      "id": "Qemx__sJveMd",
      "execution_count": 177,
      "outputs": [
        {
          "output_type": "stream",
          "name": "stdout",
          "text": [
            "+-----+-----+------+------+---+----+\n",
            "|nomes|idade|cidade|estado|cpf|cnpj|\n",
            "+-----+-----+------+------+---+----+\n",
            "+-----+-----+------+------+---+----+\n",
            "\n"
          ]
        }
      ]
    },
    {
      "cell_type": "code",
      "source": [
        "#identificando a sujeira no cnpj\n",
        "\n",
        "df = df.withColumn(\"cnpj\", regexp_replace(col(\"cnpj\"), \"[^0-9]\", \"\"))\n",
        "\n",
        "df.filter(\n",
        "    ~col(\"cnpj\").rlike(\"^[\\\\d]{14}$\")\n",
        ").show(10, False)"
      ],
      "metadata": {
        "colab": {
          "base_uri": "https://localhost:8080/"
        },
        "id": "HA6Wpz8Evh2Y",
        "outputId": "1bac7718-91a2-4f39-9eb3-32ba7a235a22"
      },
      "id": "HA6Wpz8Evh2Y",
      "execution_count": 178,
      "outputs": [
        {
          "output_type": "stream",
          "name": "stdout",
          "text": [
            "+-----+-----+------+------+---+----+\n",
            "|nomes|idade|cidade|estado|cpf|cnpj|\n",
            "+-----+-----+------+------+---+----+\n",
            "+-----+-----+------+------+---+----+\n",
            "\n"
          ]
        }
      ]
    },
    {
      "cell_type": "code",
      "source": [
        "#Iniciando a limpeza e normalização dos dados\n",
        "# Normalizando nomes\n",
        "\n",
        "df = df.withColumn(\"nomes\", initcap(col(\"nomes\")))\n",
        "df = df.withColumn(\"nomes\", regexp_replace(col(\"nomes\"), \"^[A-Z][a-z]*[.][ ]\", \"\"))\n",
        "df = df.withColumn(\"nomes\", regexp_replace(col(\"nomes\"), \"^Miss[ ]\", \"\"))"
      ],
      "metadata": {
        "id": "RKCwQ1Zkv-wm"
      },
      "id": "RKCwQ1Zkv-wm",
      "execution_count": 179,
      "outputs": []
    },
    {
      "cell_type": "code",
      "source": [
        "#Normalizando cidade\n",
        "\n",
        "df = df.withColumn(\"cidade\", initcap(col(\"cidade\")))"
      ],
      "metadata": {
        "id": "UMUgzc-VwO4t"
      },
      "id": "UMUgzc-VwO4t",
      "execution_count": 180,
      "outputs": []
    },
    {
      "cell_type": "code",
      "source": [
        "#Limpando e normalizando estados\n",
        "\n",
        "df = df.withColumn(\"estado\", ltrim(rtrim(col(\"estado\"))))\n",
        "df = df.withColumn(\"estado\", regexp_replace(col(\"estado\"), \"distrito federal\", \"DF\"))\n",
        "df = df.withColumn(\"estado\", regexp_replace(col(\"estado\"), \"sao  paulo\", \"SP\"))\n",
        "df = df.withColumn(\"estado\", regexp_replace(col(\"estado\"), \"são  paulo\", \"SP\"))\n",
        "df = df.withColumn(\"estado\", regexp_replace(col(\"estado\"), \"rio de  janeiro\", \"RJ\"))\n",
        "df = df.withColumn(\"estado\", regexp_replace(col(\"estado\"), \"MINAS GERAI\", \"MG\"))\n",
        "df = df.withColumn(\"estado\", regexp_replace(col(\"estado\"), \"MGs\", \"MG\"))"
      ],
      "metadata": {
        "id": "XIbY5SypwceM"
      },
      "id": "XIbY5SypwceM",
      "execution_count": 181,
      "outputs": []
    },
    {
      "cell_type": "code",
      "source": [
        "#validando o cpf e adicionando a nova coluna\n",
        "def cpf_is_valid(cpf):\n",
        "    cpf_numbers = [int(char) for char in cpf]\n",
        "    \n",
        "    # Validates CPF all same digits\n",
        "    if cpf_numbers == cpf_numbers[::-1]:\n",
        "        return \"Não Valido\"\n",
        "\n",
        "    #  Validates last two digits\n",
        "    for i in range(9, 11):\n",
        "        value = sum((cpf_numbers[num] * ((i+1) - num) for num in range(0, i)))\n",
        "        digit = ((value * 10) % 11) % 10\n",
        "        if digit != cpf_numbers[i]:\n",
        "            return \"Não Valido\"\n",
        "    return \"Valido\"\n",
        "\n",
        "valid_cpf = udf(lambda x: cpf_is_valid(x), StringType())\n",
        "df = df.withColumn(\"cpf_status\", valid_cpf(df.cpf))   "
      ],
      "metadata": {
        "id": "IvC7WawA-jG_"
      },
      "id": "IvC7WawA-jG_",
      "execution_count": 182,
      "outputs": []
    },
    {
      "cell_type": "code",
      "source": [
        "#validando o cnpj e adicionando a nova coluna\n",
        "\n",
        "def cnpj_is_valid(cnpj):\n",
        "    cnpj_numbers = [int(char) for char in cnpj]\n",
        "    \n",
        "    if len(cnpj_numbers) != 14:\n",
        "        return \"Não Valido\"\n",
        "    \n",
        "    # Validates CNPJ all same digits\n",
        "    if cnpj_numbers == cnpj_numbers[::-1]:\n",
        "        return \"Não Valido\"\n",
        "\n",
        "    #  Validates last two digits\n",
        "    prod = [5, 4, 3, 2, 9, 8, 7, 6, 5, 4, 3, 2]\n",
        "    beginning =  cnpj_numbers[:12]\n",
        "    while len(beginning) < 14:\n",
        "        r = sum([x*y for (x, y) in zip(beginning, prod)]) % 11\n",
        "        if r > 1:\n",
        "            f = 11 - r\n",
        "        else:\n",
        "            f = 0\n",
        "        beginning.append(f)\n",
        "        prod.insert(0, 6)\n",
        "    \n",
        "    if beginning != cnpj_numbers:\n",
        "        return \"Não Valido\"\n",
        "        \n",
        "    return \"Valido\"\n",
        "\n",
        "valid_cnpj = udf(lambda x: cnpj_is_valid(x), StringType())\n",
        "df = df.withColumn(\"cnpj_status\", valid_cnpj(df.cnpj))"
      ],
      "metadata": {
        "id": "qbLnR9tuBwPN"
      },
      "id": "qbLnR9tuBwPN",
      "execution_count": 183,
      "outputs": []
    },
    {
      "cell_type": "code",
      "source": [
        "df.show()"
      ],
      "metadata": {
        "colab": {
          "base_uri": "https://localhost:8080/"
        },
        "id": "svxf1OscEV7p",
        "outputId": "593c5e04-a2fa-4191-fe67-963559f35863"
      },
      "id": "svxf1OscEV7p",
      "execution_count": 144,
      "outputs": [
        {
          "output_type": "stream",
          "name": "stdout",
          "text": [
            "+------------------+-----+-------------------+------+-----------+--------------+----------+-----------+\n",
            "|             nomes|idade|             cidade|estado|        cpf|          cnpj|cpf_status|cnpj_status|\n",
            "+------------------+-----+-------------------+------+-----------+--------------+----------+-----------+\n",
            "|    Dennis Daniels|   31|         ACRELÂNDIA|    AC|97566536800|06589184909526|    Valido|     Valido|\n",
            "|       Leah Becker|   42|        ÁGUA BRANCA|    AL|42526380707|25673336235020|    Valido|     Valido|\n",
            "|        Sally Ford|   18|           ALVARÃES|    AM|34647754103|26543101702989|    Valido|     Valido|\n",
            "|    Colleen Duncan|   21|     SERRA DO NAVIO|    AP|25253156003|19062080510098|    Valido|     Valido|\n",
            "|   Jeff Stephenson|   73|             ABAÍRA|    BA|49668886542|97794530015384|    Valido|     Valido|\n",
            "|     Sydney Curtis|   85|            ABAIARA|    CE|50620290749|29476298085678|    Valido|     Valido|\n",
            "|    Kelly Matthews|   44|           Brasília|    DF|39154836808|24709301957761|    Valido|     Valido|\n",
            "|         Juan Ruiz|   39|     AFONSO CLÁUDIO|    ES|22688119648|02420338147900|    Valido|     Valido|\n",
            "|      Brian Thomas|   26|    ABADIA DE GOIÁS|    GO|47475484084|70723419110335|    Valido|     Valido|\n",
            "|        Sara Ayers|   62|         AÇAILÂNDIA|    MA|94830978864|88253689548382|    Valido|     Valido|\n",
            "|        Brady Cruz|   83|ABADIA DOS DOURADOS|    MG|03438452456|13118105069639|    Valido|     Valido|\n",
            "|   Samantha Wright|   32|         ÁGUA CLARA|    MS|22203654090|04310317320252|    Valido|     Valido|\n",
            "|    Richard Turner|   85|           ACORIZAL|    MT|79059712285|75595541223248|    Valido|     Valido|\n",
            "|    Ashley Sanders|   73|         ABAETETUBA|    PA|75206513989|06923815165128|    Valido|     Valido|\n",
            "|      Thomas Jones|   45|        ÁGUA BRANCA|    PB|34565179806|26574533273304|    Valido|     Valido|\n",
            "|        Ian Murray|   68|       ABREU E LIMA|    PE|15277717099|85202887368851|    Valido|     Valido|\n",
            "|     Janice Jensen|   79|              ACAUÃ|    PI|45081993646|89596067898809|    Valido|     Valido|\n",
            "|Jeffrey Cunningham|   48|             ABATIÁ|    PR|66549028825|18866688344242|    Valido|     Valido|\n",
            "|      Amanda Glass|   49|     ANGRA DOS REIS|    RJ|86173803577|87380936406714|    Valido|     Valido|\n",
            "|   Kaitlyn Johnson|   65|              ACARI|    RN|89737004213|40893546741494|    Valido|     Valido|\n",
            "+------------------+-----+-------------------+------+-----------+--------------+----------+-----------+\n",
            "only showing top 20 rows\n",
            "\n"
          ]
        }
      ]
    },
    {
      "cell_type": "markdown",
      "source": [
        "Respondendo as perguntas:"
      ],
      "metadata": {
        "id": "FwSt1q62CjO7"
      },
      "id": "FwSt1q62CjO7"
    },
    {
      "cell_type": "code",
      "source": [
        "#Quantos clientes temos nessa base?\n",
        "\n",
        "df.select(\"cpf\").distinct().count()"
      ],
      "metadata": {
        "colab": {
          "base_uri": "https://localhost:8080/"
        },
        "id": "CiJ-pgXJCnSk",
        "outputId": "be4a8e38-33e7-484c-fdac-6f84d4111274"
      },
      "id": "CiJ-pgXJCnSk",
      "execution_count": 184,
      "outputs": [
        {
          "output_type": "execute_result",
          "data": {
            "text/plain": [
              "10000"
            ]
          },
          "metadata": {},
          "execution_count": 184
        }
      ]
    },
    {
      "cell_type": "code",
      "source": [
        "#Qual a média de idade dos clientes?\n",
        "\n",
        "df.agg({\"idade\": \"avg\"}).show()"
      ],
      "metadata": {
        "colab": {
          "base_uri": "https://localhost:8080/"
        },
        "id": "5BO5icKzDFrT",
        "outputId": "15c4c9f2-eb22-4de0-9c58-cd623732bdc0"
      },
      "id": "5BO5icKzDFrT",
      "execution_count": 185,
      "outputs": [
        {
          "output_type": "stream",
          "name": "stdout",
          "text": [
            "+----------+\n",
            "|avg(idade)|\n",
            "+----------+\n",
            "|   53.7831|\n",
            "+----------+\n",
            "\n"
          ]
        }
      ]
    },
    {
      "cell_type": "code",
      "source": [
        "#Quantos clientes nessa base pertencem a cada estado?\n",
        "\n",
        "df.groupBy(\"estado\").count().show(30)"
      ],
      "metadata": {
        "colab": {
          "base_uri": "https://localhost:8080/"
        },
        "id": "11ZmnTpMDeG6",
        "outputId": "964ba8be-b0c1-468c-84f5-d3afbb22fee1"
      },
      "id": "11ZmnTpMDeG6",
      "execution_count": 186,
      "outputs": [
        {
          "output_type": "stream",
          "name": "stdout",
          "text": [
            "+------+-----+\n",
            "|estado|count|\n",
            "+------+-----+\n",
            "|    SC|  370|\n",
            "|    RO|  370|\n",
            "|    PI|  370|\n",
            "|    AM|  371|\n",
            "|    RR|  370|\n",
            "|    GO|  371|\n",
            "|    TO|  370|\n",
            "|    MT|  370|\n",
            "|    SP|  370|\n",
            "|    ES|  371|\n",
            "|    PB|  370|\n",
            "|    RS|  370|\n",
            "|    MS|  370|\n",
            "|    AL|  371|\n",
            "|    MG|  370|\n",
            "|    PA|  370|\n",
            "|    BA|  371|\n",
            "|    SE|  370|\n",
            "|    PE|  370|\n",
            "|    CE|  371|\n",
            "|    RN|  370|\n",
            "|    RJ|  370|\n",
            "|    MA|  371|\n",
            "|    AC|  371|\n",
            "|    DF|  371|\n",
            "|    PR|  370|\n",
            "|    AP|  371|\n",
            "+------+-----+\n",
            "\n"
          ]
        }
      ]
    },
    {
      "cell_type": "code",
      "source": [
        "#Quantos CPFs válidos e inválidos foram encontrados?\n",
        "\n",
        "df.groupBy('cpf_status').count().show()"
      ],
      "metadata": {
        "colab": {
          "base_uri": "https://localhost:8080/"
        },
        "id": "gAhTtP18DnGP",
        "outputId": "99e44cb5-5f01-4e07-c4ff-96ae6ef7c9d7"
      },
      "id": "gAhTtP18DnGP",
      "execution_count": 187,
      "outputs": [
        {
          "output_type": "stream",
          "name": "stdout",
          "text": [
            "+----------+-----+\n",
            "|cpf_status|count|\n",
            "+----------+-----+\n",
            "|Não Valido|    1|\n",
            "|    Valido| 9999|\n",
            "+----------+-----+\n",
            "\n"
          ]
        }
      ]
    },
    {
      "cell_type": "code",
      "source": [
        "#Quantos CNPJs válidos e inválidos foram encontrados?\n",
        "\n",
        "df.groupBy('cnpj_status').count().show()"
      ],
      "metadata": {
        "colab": {
          "base_uri": "https://localhost:8080/"
        },
        "id": "Q4tCIc1PDq8X",
        "outputId": "f4af3494-4788-4bd5-871f-29e0e7b18c8b"
      },
      "id": "Q4tCIc1PDq8X",
      "execution_count": 188,
      "outputs": [
        {
          "output_type": "stream",
          "name": "stdout",
          "text": [
            "+-----------+-----+\n",
            "|cnpj_status|count|\n",
            "+-----------+-----+\n",
            "|     Valido|10000|\n",
            "+-----------+-----+\n",
            "\n"
          ]
        }
      ]
    },
    {
      "cell_type": "code",
      "source": [
        "#Escrevendo o arquivo csv\n",
        "\n",
        "df.write.option(\"header\",True).mode(\"overwrite\").csv(\"problema1_normalizado.csv\")"
      ],
      "metadata": {
        "id": "i14nvwL9Eerh"
      },
      "id": "i14nvwL9Eerh",
      "execution_count": 189,
      "outputs": []
    },
    {
      "cell_type": "code",
      "source": [
        "#Escrevendo o arquivo parquet\n",
        "\n",
        "df.write.option(\"header\",True).mode(\"overwrite\").parquet(\"problema1_normalizado.parquet\")"
      ],
      "metadata": {
        "id": "ma8Fs-rLFSL8"
      },
      "id": "ma8Fs-rLFSL8",
      "execution_count": 190,
      "outputs": []
    }
  ],
  "metadata": {
    "kernelspec": {
      "display_name": "Python 3",
      "language": "python",
      "name": "python3"
    },
    "language_info": {
      "codemirror_mode": {
        "name": "ipython",
        "version": 3
      },
      "file_extension": ".py",
      "mimetype": "text/x-python",
      "name": "python",
      "nbconvert_exporter": "python",
      "pygments_lexer": "ipython3",
      "version": "3.8.5"
    },
    "colab": {
      "provenance": []
    }
  },
  "nbformat": 4,
  "nbformat_minor": 5
}